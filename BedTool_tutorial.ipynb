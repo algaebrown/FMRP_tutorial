{
 "cells": [
  {
   "cell_type": "markdown",
   "id": "276cafa1",
   "metadata": {},
   "source": [
    "# In this small project, you will (mainly) learn how to use BedTool\n",
    "- .bed files are files containing \"genomic regions\". each line is a region here.\n",
    "- BedTool is a package that helps you intersect genomic regions.\n",
    "\n",
    "- BedTool is good at overlapping 2 or more bed files\n",
    "- combining with pandas and other python scripting technique, you will be able to answer many scientific questions!\n",
    "\n",
    "\n",
    "# Scientific questions:\n",
    "People are looking to learn FMRP's binding specificity. They want to know what sequence/structure FMRP binds. Does FMRP bind with other proteins? Do FMRP bind UTR, CDS or intron? Does it bind m6A modifications? Does it bind G-quadruplexes. Most of those questions can be answered by overlapping many sets of data. What disease genes are bound by FMRP?\n",
    "\n",
    "And let me show you how this is done.\n",
    "\n",
    "# 1 Bedfile"
   ]
  },
  {
   "cell_type": "code",
   "execution_count": 1,
   "id": "b5d9d441",
   "metadata": {},
   "outputs": [],
   "source": [
    "# import bedtool\n",
    "from pybedtools import BedTool\n",
    "# read in the bed file. This bed file contains regions that are bound to FMRP\n",
    "fmrp_binding_regions = BedTool('/home/hsher/projects/FMRP_UABP2L/renormalize_snake/output/FMRP_MBL_Neu_new2.peaks.normed.compressed.filtered.annotate.bed')"
   ]
  },
  {
   "cell_type": "code",
   "execution_count": 2,
   "id": "b95abf20",
   "metadata": {},
   "outputs": [
    {
     "name": "stdout",
     "output_type": "stream",
     "text": [
      "chr7\t5593353\t5593458\t38.7196019402386\t5.50659033369089\t+\tENSG00000075618.17\tFSCN1\tCDS\tENST00000382361.7:5592822:5606655:+:transcript:ENSG00000075618.17:FSCN1:protein_coding:protein_coding:feature_contains_query|ENST00000382361.7:5592822:5593768:+:exon:ENSG00000075618.17:FSCN1:protein_coding:protein_coding:feature_contains_query|ENST00000382361.7:5592936:5593768:+:CDS:ENSG00000075618.17:FSCN1:protein_coding:protein_coding:feature_contains_query\n",
      "\n"
     ]
    }
   ],
   "source": [
    "# look at the first line\n",
    "# the most important columns are 0,1,2,5-> chromosome,start,end,strand. These define a \"region\"\n",
    "print(fmrp_binding_regions[0]) # chromosome, start, end, score(not important), name(not important), strand..."
   ]
  },
  {
   "cell_type": "markdown",
   "id": "da70afe3",
   "metadata": {},
   "source": [
    "For the rest of the columns, usually (but not always) they are the ones specified in this documentation: https://genome.ucsc.edu/FAQ/FAQformat.html.\n",
    "\n",
    "In this case above, the format is not standard format. And here are some relevant ones:\n",
    "- ENSG00000075618.17: Ensembl gene ID: which gene this region is in\n",
    "- FSCN1: Gene name\n",
    "- CDS which region"
   ]
  },
  {
   "cell_type": "markdown",
   "id": "dcc3ebeb",
   "metadata": {},
   "source": [
    "## Task 1:\n",
    "1. count how many \"regions\" do FMRP bind using `len()`\n",
    "2. count how many unqiue genes do FMRP bind using a combination of `for` loop and `set()`\n",
    "3. How many % of FMRP binding regions are in \"CDS\"/\"UTR\"/\"intron\". "
   ]
  },
  {
   "cell_type": "code",
   "execution_count": 3,
   "id": "6b5a5d16",
   "metadata": {},
   "outputs": [
    {
     "data": {
      "text/plain": [
       "15153"
      ]
     },
     "execution_count": 3,
     "metadata": {},
     "output_type": "execute_result"
    }
   ],
   "source": [
    "# 1-1\n",
    "len(fmrp_binding_regions)"
   ]
  },
  {
   "cell_type": "code",
   "execution_count": 4,
   "id": "1dfdf4af",
   "metadata": {},
   "outputs": [],
   "source": [
    "# 1-2. Use basic python scripting...\n",
    "for region in fmrp_binding_regions:\n",
    "    # TODO: region[6] is gene ID\n",
    "    \n",
    "    pass # remove this after you fill it in"
   ]
  },
  {
   "cell_type": "code",
   "execution_count": 5,
   "id": "ce5ddad4",
   "metadata": {},
   "outputs": [],
   "source": [
    "from collections import Counter # read about Counter. It helps you count for the number of occurence in list\n",
    "# 1-3\n",
    "for region in fmrp_binding_regions:\n",
    "    # TODO region[8] is what you want\n",
    "    \n",
    "    pass # remove this after you fill it in"
   ]
  },
  {
   "cell_type": "code",
   "execution_count": 6,
   "id": "5becf58f",
   "metadata": {},
   "outputs": [],
   "source": [
    "# extra.Try doing 1-2/1-3 using list comprehension"
   ]
  },
  {
   "cell_type": "markdown",
   "id": "f35d856e",
   "metadata": {},
   "source": [
    "# Task 2: Overlapping\n",
    "\n",
    "To understand if FMRP binds m6A/G4, you need some extra data. Fortunately we have other experiments probing those."
   ]
  },
  {
   "cell_type": "code",
   "execution_count": null,
   "id": "9ebed754",
   "metadata": {},
   "outputs": [],
   "source": [
    "import pandas as pd\n",
    "# downloaded from here https://pubmed.ncbi.nlm.nih.gov/32338139/\n",
    "rg4_excel = pd.read_excel('/home/hsher/projects/RG4/SupplementaryFile2.xlsx')"
   ]
  },
  {
   "cell_type": "code",
   "execution_count": null,
   "id": "1bc1c52a",
   "metadata": {},
   "outputs": [],
   "source": [
    "rg4_excel.head() # this should be something that you are familiar with"
   ]
  },
  {
   "cell_type": "code",
   "execution_count": null,
   "id": "52f5a74b",
   "metadata": {},
   "outputs": [],
   "source": [
    "# the column that contains the real start/end is \"Genomic intervals of rG4\"\n",
    "rg4_excel['start-end'] = rg4_excel['Genomic intervals of rG4'].str.split(':', expand = True)[1]\n",
    "rg4_excel['start'] = rg4_excel['start-end'].str.split('-', expand = True)[0].astype(int)\n",
    "rg4_excel['end'] = rg4_excel['start-end'].str.split('-', expand = True)[1].astype(int)"
   ]
  },
  {
   "cell_type": "code",
   "execution_count": null,
   "id": "7bfe2d8c",
   "metadata": {},
   "outputs": [],
   "source": [
    "# look at this, does it look like a bed file\n",
    "rg4_excel[['chromosome', 'start', 'end', 'rG4 structural class', 'Overlapping RefSeq \\ngene regions', 'strand']]"
   ]
  },
  {
   "cell_type": "code",
   "execution_count": null,
   "id": "2a9da689",
   "metadata": {},
   "outputs": [],
   "source": [
    "# to do overlap, everything needs to become a bedtool object. You can easily to this with\n",
    "rg4_bed = BedTool.from_dataframe(rg4_excel[['chromosome', 'start', 'end', 'rG4 structural class', 'Overlapping RefSeq \\ngene regions', 'strand']])"
   ]
  },
  {
   "cell_type": "code",
   "execution_count": null,
   "id": "e9748674",
   "metadata": {},
   "outputs": [],
   "source": [
    "# Now you are about to learn about the power of bedtool.intersect\n",
    "\n",
    "fmrp_g4 = fmrp_binding_regions.intersect(rg4_bed,\n",
    "                              s = True, # why do I use s=True\n",
    "                              u = True) # what does u = True mean?"
   ]
  },
  {
   "cell_type": "code",
   "execution_count": null,
   "id": "0498e7a8",
   "metadata": {},
   "outputs": [],
   "source": [
    "len(fmrp_g4) # 101 of the FMRP binding regions overlap with G4"
   ]
  },
  {
   "cell_type": "code",
   "execution_count": null,
   "id": "9f8c136f",
   "metadata": {},
   "outputs": [],
   "source": [
    "fmrp_g4[0] # these are the first one that it overlaps"
   ]
  },
  {
   "cell_type": "markdown",
   "id": "0fa12844",
   "metadata": {},
   "source": [
    "tasks:\n",
    "1. How many FMRP peaks DOES NOT overlap with G4?\n",
    "2. How many G4 overlap with FMRP? (1 FMRP can overlap with many G4)...\n",
    "3. Is this overlap sigificant. (use fisher exact test/chi-square test)\n",
    "4. calculate the \"jaccard distance\" between G4 and FMRP using the numbers you get from above"
   ]
  },
  {
   "cell_type": "markdown",
   "id": "dd9b1de0",
   "metadata": {},
   "source": [
    "# Task 3: To what extend does FMRP overlap with m6A modifications"
   ]
  },
  {
   "cell_type": "code",
   "execution_count": null,
   "id": "f859cf69",
   "metadata": {},
   "outputs": [],
   "source": [
    "# Use all the technique you learned in task2 to do this\n",
    "# we have m6A data in many cell lines. Here is all of them\n",
    "\n",
    "import os\n",
    "m6A_dir = '/home/hsher/projects/m6A_celltype/jackie_processed/'\n",
    "\n",
    "path_to_m6A_beds = [os.path.join(m6A_dir,f) for f in os.listdir(m6A_dir) if f.endswith('.normed.compressed.sorted.blacklist-removed.narrowPeak')]"
   ]
  },
  {
   "cell_type": "code",
   "execution_count": null,
   "id": "68e30822",
   "metadata": {},
   "outputs": [],
   "source": [
    "len(path_to_m6A_beds) # a total of 60 cell lines"
   ]
  },
  {
   "cell_type": "code",
   "execution_count": null,
   "id": "8c4d3fe8",
   "metadata": {},
   "outputs": [],
   "source": [
    "# loop over them, check how well they overlap with FMRP. \n",
    "# Use a bar graph to display the cell line that has most m6A overlapping with FMRP"
   ]
  },
  {
   "cell_type": "markdown",
   "id": "ef96fc1d",
   "metadata": {},
   "source": [
    "## scientific question:\n",
    "1. what is m6A? \n",
    "2. Are m6A known to be different between cell lines\n",
    "3. Given FMRP is CLIPped in neurons, which cell line is the most similar ones that we should compare to?\n",
    "4. look at one of the m6A files. column 6 is -log 10 p-value; 7 is log 2 fold-change. What is pvalue? what is fold change? (find out at the eCLIP paper, https://www.nature.com/articles/nmeth.3810#Sec10, Normalization of eCLIP signal against SMInput.) Is all of the m6A sites confident? How will you filter them?\n",
    "5. after filtering them, recheck overlapping with FMRP"
   ]
  },
  {
   "cell_type": "code",
   "execution_count": null,
   "id": "e5c790dc",
   "metadata": {},
   "outputs": [],
   "source": [
    "# 3-4 filter for significant peaks\n",
    "\n",
    "def filter_m6A_by_pval_and_l2fc(m6A bed):\n",
    "    m6A_bed = ... # TODO\n",
    "\n",
    "    return m6A_bed.filter(lambda x: x[6]> ... and x[7]>...) #look at bedtool.filter and lambda function"
   ]
  },
  {
   "cell_type": "code",
   "execution_count": null,
   "id": "9d455073",
   "metadata": {},
   "outputs": [],
   "source": [
    "# 3-5 TODO imcomplete code\n",
    "for bed in ...\n",
    "    filtered=filter_m6A_by_pval(bed)\n",
    "    filtered.intersct(fmrp.....)"
   ]
  },
  {
   "cell_type": "markdown",
   "id": "2bb06bc0",
   "metadata": {},
   "source": [
    "# Taks 4: find overlapping proteins with FMRP\n",
    "1. which encode protein overlaps most witht he encode FMRP?"
   ]
  },
  {
   "cell_type": "code",
   "execution_count": null,
   "id": "85fa7b2c",
   "metadata": {},
   "outputs": [],
   "source": [
    "encode_data = pd.read_csv('/home/hsher/projects/katie/encode_data.csv')"
   ]
  },
  {
   "cell_type": "code",
   "execution_count": null,
   "id": "9ca232e9",
   "metadata": {},
   "outputs": [],
   "source": [
    "encode_data.head() # contains all encode data paths"
   ]
  },
  {
   "cell_type": "code",
   "execution_count": null,
   "id": "2e12c7df",
   "metadata": {},
   "outputs": [],
   "source": [
    "encode_data.loc[encode_data['RBP']=='FMR1'] # we have FMR1 too here"
   ]
  },
  {
   "cell_type": "code",
   "execution_count": null,
   "id": "b85ef1b8",
   "metadata": {},
   "outputs": [],
   "source": [
    "# the column you want is \"IDR\"\n",
    "fmr1_peak = BedTool(encode_data.loc[encode_data['RBP']=='FMR1', 'idr'].iloc[0])"
   ]
  },
  {
   "cell_type": "code",
   "execution_count": null,
   "id": "f7209e6a",
   "metadata": {},
   "outputs": [],
   "source": [
    "print(fmr1_peak[0])"
   ]
  },
  {
   "cell_type": "code",
   "execution_count": null,
   "id": "6d2229dd",
   "metadata": {},
   "outputs": [],
   "source": [
    "# 4-1\n",
    "# now overlap FMR1 with all other proteins in encode data. Find which protein it overlaps most with\n",
    "# use df.iterrows() to loop over encode_data\n",
    "# make bedtool for each idr\n",
    "# fmr1_peak.intersect(idr, s = True, u = True)\n",
    "# calculate jaccard index for all of them, store in a dataframe.\n",
    "# visualize your result using bar plots.\n"
   ]
  },
  {
   "cell_type": "markdown",
   "id": "478875f0",
   "metadata": {},
   "source": [
    "# 5 public data\n",
    "some suggest another protein MOV10 overlaps with FMRP. \n",
    "\n",
    "1. google \"MOV10 CLIP\" to find any published CLIP data for MOV10? which species is it in? which genome coordinate is the file in (hg19/hg38/mm10).\n",
    "2. Download the data. If the data is not in hg38. you need to \"liftover\"\n",
    "3. Overlap MOV10 with FMRP and calculate jaccard index"
   ]
  },
  {
   "cell_type": "markdown",
   "id": "f666fefe",
   "metadata": {},
   "source": [
    "# 6 Literature review\n",
    "- based on the findings above, what do you think is the specificity of FMRP?\n",
    "- What region does it bind\n",
    "- Read about what people know about FMRP vs m6A/ FMRP vs G4, FMRP vs FXR protein (you should find this pair in part 4, if not, sth is wrong), FMRP vs MOV10......\n",
    "\n",
    "# 7 Coding/bioinformatics skills you (will) leared\n",
    "- you learn what is a bedfile\n",
    "- you learn to use bedtool\n",
    "- in fact bedtool can do a lot more than intersect/filter. This is only a small part of it. learn more reading the bedtool documentation: https://bedtools.readthedocs.io/en/latest/, \"interesting usage examples\"\n",
    "- you learn about p-value/FC in peak calling\n",
    "- you learn how to perform fisher/chi-square test\n",
    "- you learn about jaccard index\n",
    "- you practiced a lot of for loop/pandas/bedtools\n",
    "- coding skills: list comprehension and lambda functions\n",
    "\n"
   ]
  }
 ],
 "metadata": {
  "kernelspec": {
   "display_name": "metadensity",
   "language": "python",
   "name": "metadensity"
  },
  "language_info": {
   "codemirror_mode": {
    "name": "ipython",
    "version": 3
   },
   "file_extension": ".py",
   "mimetype": "text/x-python",
   "name": "python",
   "nbconvert_exporter": "python",
   "pygments_lexer": "ipython3",
   "version": "3.7.12"
  }
 },
 "nbformat": 4,
 "nbformat_minor": 5
}
